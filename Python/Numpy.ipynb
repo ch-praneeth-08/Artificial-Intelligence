{
 "cells": [
  {
   "cell_type": "markdown",
   "id": "1404ca3a",
   "metadata": {},
   "source": [
    "# CREATING ARRAYS"
   ]
  },
  {
   "cell_type": "code",
   "execution_count": 1,
   "id": "2363e18d",
   "metadata": {},
   "outputs": [],
   "source": [
    "import numpy as np"
   ]
  },
  {
   "cell_type": "code",
   "execution_count": null,
   "id": "239afd77",
   "metadata": {},
   "outputs": [],
   "source": [
    "# One Dimensional Array\n",
    "\n",
    "arr1D = np.array([1, 2, 3, 4, 5])\n",
    "print(arr1D) \n",
    "print(type(arr1D))  \n"
   ]
  },
  {
   "cell_type": "code",
   "execution_count": 2,
   "id": "7203dc3a",
   "metadata": {},
   "outputs": [
    {
     "name": "stdout",
     "output_type": "stream",
     "text": [
      "[[1 2 3]\n",
      " [4 5 6]\n",
      " [7 8 9]]\n"
     ]
    }
   ],
   "source": [
    "# Two Dimensional Array\n",
    "\n",
    "arr2D = np.array([[1, 2, 3], [4, 5, 6], [7, 8, 9]])\n",
    "print(arr2D)"
   ]
  },
  {
   "cell_type": "code",
   "execution_count": null,
   "id": "bc3be8d8",
   "metadata": {},
   "outputs": [],
   "source": [
    "# Three Dimensional Array (Tensors)\n",
    "\n",
    "arr3D = np.array([[[1, 2, 3], [4, 5, 6]], [[7, 8, 9], [10, 11, 12]]])\n",
    "print(arr3D)\n"
   ]
  },
  {
   "cell_type": "markdown",
   "id": "47f3f653",
   "metadata": {},
   "source": [
    "# Checking Array Properties"
   ]
  },
  {
   "cell_type": "code",
   "execution_count": 3,
   "id": "9591d37c",
   "metadata": {},
   "outputs": [
    {
     "name": "stdout",
     "output_type": "stream",
     "text": [
      "2\n",
      "(2, 3)\n",
      "6\n",
      "int64\n"
     ]
    }
   ],
   "source": [
    "arr = np.array([[1, 2, 3], [4, 5, 6]])\n",
    "\n",
    "print(arr.ndim)\n",
    "print(arr.shape)  \n",
    "print(arr.size)   \n",
    "print(arr.dtype)\n"
   ]
  },
  {
   "cell_type": "markdown",
   "id": "fcf99b7a",
   "metadata": {},
   "source": [
    "# Special NumPy Arrays"
   ]
  },
  {
   "cell_type": "code",
   "execution_count": 6,
   "id": "25f957db",
   "metadata": {},
   "outputs": [
    {
     "name": "stdout",
     "output_type": "stream",
     "text": [
      "[[0. 0. 0.]\n",
      " [0. 0. 0.]\n",
      " [0. 0. 0.]] \n",
      "\n",
      "[[1. 1. 1. 1.]\n",
      " [1. 1. 1. 1.]] \n",
      "\n",
      "[[1. 0. 0. 0.]\n",
      " [0. 1. 0. 0.]\n",
      " [0. 0. 1. 0.]\n",
      " [0. 0. 0. 1.]] \n",
      "\n",
      "[[7 7 7]\n",
      " [7 7 7]] \n",
      "\n"
     ]
    }
   ],
   "source": [
    "# Creating Arrays with Default Values\n",
    "\n",
    "zeros = np.zeros((3, 3))  # 3x3 matrix of zeros\n",
    "ones = np.ones((2, 4))  # 2x4 matrix of ones\n",
    "identity = np.identity(4)  # 4x4 identity matrix\n",
    "constant = np.full((2, 3), 7)  # 2x3 matrix where all elements are 7\n",
    "print(zeros, \"\\n\")\n",
    "print(ones, \"\\n\")\n",
    "print(identity , \"\\n\")\n",
    "print(constant, \"\\n\")\n"
   ]
  },
  {
   "cell_type": "code",
   "execution_count": 7,
   "id": "e7474321",
   "metadata": {},
   "outputs": [
    {
     "name": "stdout",
     "output_type": "stream",
     "text": [
      "[[0.10371855 0.66823239 0.35966273]\n",
      " [0.35369785 0.44378943 0.84115176]\n",
      " [0.86894671 0.06588271 0.13090619]] \n",
      "\n",
      "[[-1.4858528  -1.1942079  -0.98271805]\n",
      " [ 0.37131984 -0.64401904 -0.81407508]\n",
      " [ 1.46465242  0.24732383 -0.09694007]] \n",
      "\n",
      "[[10 13 24]\n",
      " [31 38 26]\n",
      " [34 40 49]]\n"
     ]
    }
   ],
   "source": [
    "#Creating Arrays with Random Numbers\n",
    "\n",
    "random_uniform = np.random.rand(3, 3)  # Values between 0 and 1\n",
    "random_normal = np.random.randn(3, 3)  # Normal distribution\n",
    "random_ints = np.random.randint(10, 50, (3, 3))  # Integers between 10 and 50\n",
    "\n",
    "print(random_uniform, \"\\n\")\n",
    "print(random_normal, \"\\n\")\n",
    "print(random_ints)\n"
   ]
  },
  {
   "cell_type": "markdown",
   "id": "d4d17021",
   "metadata": {},
   "source": [
    "# INDEXING AND SLICING"
   ]
  },
  {
   "cell_type": "code",
   "execution_count": 8,
   "id": "bd3475d9",
   "metadata": {},
   "outputs": [
    {
     "name": "stdout",
     "output_type": "stream",
     "text": [
      "30\n",
      "50\n"
     ]
    }
   ],
   "source": [
    "arr = np.array([10, 20, 30, 40, 50])\n",
    "print(arr[2])  # 30\n",
    "print(arr[-1])  # 50\n"
   ]
  },
  {
   "cell_type": "code",
   "execution_count": 9,
   "id": "08719aca",
   "metadata": {},
   "outputs": [
    {
     "name": "stdout",
     "output_type": "stream",
     "text": [
      "[20 30 40]\n"
     ]
    }
   ],
   "source": [
    "arr = np.array([10, 20, 30, 40, 50])\n",
    "print(arr[1:4])  # Elements 1 to 3 → [20 30 40]\n"
   ]
  },
  {
   "cell_type": "code",
   "execution_count": 10,
   "id": "3ab3b561",
   "metadata": {},
   "outputs": [
    {
     "name": "stdout",
     "output_type": "stream",
     "text": [
      "60\n",
      "[20 50 80]\n",
      "[[50 60]\n",
      " [80 90]]\n"
     ]
    }
   ],
   "source": [
    "arr2D = np.array([[10, 20, 30], [40, 50, 60], [70, 80, 90]])\n",
    "\n",
    "print(arr2D[1, 2])  # Element at row 1, col 2 → 60\n",
    "print(arr2D[:, 1])  # Second column → [20 50 80]\n",
    "print(arr2D[1:, 1:])  # Submatrix\n"
   ]
  },
  {
   "cell_type": "code",
   "execution_count": 12,
   "id": "f32b43c1",
   "metadata": {},
   "outputs": [
    {
     "name": "stdout",
     "output_type": "stream",
     "text": [
      "[[ 1  2  3  4]\n",
      " [ 5  6  7  8]\n",
      " [ 9 10 11 12]]\n",
      "[ 1  2  3  4  5  6  7  8  9 10 11 12]\n"
     ]
    }
   ],
   "source": [
    "# reshaping an array\n",
    "arr = np.arange(1, 13)  # [1 2 3 ... 12]\n",
    "reshaped = arr.reshape(3, 4)  # 3x4 matrix\n",
    "print(reshaped)\n",
    "\n",
    "flat = reshaped.flatten()  # Converts back to 1D\n",
    "print(flat)\n"
   ]
  },
  {
   "cell_type": "code",
   "execution_count": null,
   "id": "c7732013",
   "metadata": {},
   "outputs": [],
   "source": [
    "# mathematical operations\n",
    "\n",
    "a = np.array([1, 2, 3])\n",
    "b = np.array([4, 5, 6])\n",
    "\n",
    "print(a + b)  # Element-wise addition\n",
    "print(a * b)  # Element-wise multiplication\n",
    "print(a / 2)  # Divide by scalar\n",
    "\n",
    "\n",
    "# matrix multiplication\n",
    "A = np.array([[1, 2], [3, 4]])\n",
    "B = np.array([[5, 6], [7, 8]])\n",
    "\n",
    "dot_product = np.dot(A, B)  # Matrix multiplication\n",
    "print(dot_product)\n"
   ]
  },
  {
   "cell_type": "markdown",
   "id": "a839a934",
   "metadata": {},
   "source": [
    "## Statistical & Aggregate Functions"
   ]
  },
  {
   "cell_type": "code",
   "execution_count": 13,
   "id": "b0d32cb2",
   "metadata": {},
   "outputs": [
    {
     "name": "stdout",
     "output_type": "stream",
     "text": [
      "30.0\n",
      "30.0\n",
      "14.142135623730951\n",
      "200.0\n",
      "150\n",
      "10\n",
      "50\n",
      "0\n",
      "4\n"
     ]
    }
   ],
   "source": [
    "arr = np.array([10, 20, 30, 40, 50])\n",
    "\n",
    "print(np.mean(arr))  # Mean\n",
    "print(np.median(arr))  # Median\n",
    "print(np.std(arr))  # Standard deviation\n",
    "print(np.var(arr))  # Variance\n",
    "print(np.sum(arr))  # Sum\n",
    "print(np.min(arr))  # Minimum\n",
    "print(np.max(arr))  # Maximum\n",
    "print(np.argmin(arr))  # Index of minimum\n",
    "print(np.argmax(arr))  # Index of maximum\n"
   ]
  },
  {
   "cell_type": "markdown",
   "id": "a4cf5315",
   "metadata": {},
   "source": [
    "## Boolean masking and Filtering "
   ]
  },
  {
   "cell_type": "code",
   "execution_count": 15,
   "id": "5c24e1a7",
   "metadata": {},
   "outputs": [
    {
     "name": "stdout",
     "output_type": "stream",
     "text": [
      "[False False  True  True  True]\n",
      "[20 30 50]\n",
      "[30 40 50]\n"
     ]
    }
   ],
   "source": [
    "arr = np.array([10, 20, 30, 40, 50])\n",
    "\n",
    "mask = arr > 25  # Boolean mask (array of True/False values)\n",
    "print(mask)  #(you can give an array as input to get the values of that indexes or True or False values)\n",
    "\n",
    "print(arr[[1,2,4]]) # prints the values of the indexes given in the array\n",
    "print(arr[mask])  # Filtered array: [30 40 50]\n"
   ]
  }
 ],
 "metadata": {
  "kernelspec": {
   "display_name": ".venv",
   "language": "python",
   "name": "python3"
  },
  "language_info": {
   "codemirror_mode": {
    "name": "ipython",
    "version": 3
   },
   "file_extension": ".py",
   "mimetype": "text/x-python",
   "name": "python",
   "nbconvert_exporter": "python",
   "pygments_lexer": "ipython3",
   "version": "3.13.1"
  }
 },
 "nbformat": 4,
 "nbformat_minor": 5
}
