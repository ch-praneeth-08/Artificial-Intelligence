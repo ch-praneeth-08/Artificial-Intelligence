{
 "cells": [
  {
   "cell_type": "markdown",
   "id": "06715e72",
   "metadata": {},
   "source": [
    "### Variables and Data Types"
   ]
  },
  {
   "cell_type": "code",
   "execution_count": null,
   "id": "30c1ea83",
   "metadata": {},
   "outputs": [
    {
     "name": "stdout",
     "output_type": "stream",
     "text": [
      "10 <class 'int'>\n",
      "3.14 <class 'float'>\n",
      "John <class 'str'>\n",
      "True <class 'bool'>\n",
      "(3+4j) <class 'complex'>\n"
     ]
    }
   ],
   "source": [
    "# Integer\n",
    "x = 10\n",
    "print(x, type(x)) \n",
    "\n",
    "# Float\n",
    "y = 3.14\n",
    "print(y, type(y))  \n",
    "\n",
    "# String\n",
    "name = \"John\"\n",
    "print(name, type(name))  \n",
    "\n",
    "# Boolean\n",
    "is_active = True\n",
    "print(is_active, type(is_active)) \n",
    "\n",
    "# Complex Number\n",
    "z = 3 + 4j\n",
    "print(z, type(z)) \n"
   ]
  },
  {
   "cell_type": "code",
   "execution_count": null,
   "id": "f31aae31",
   "metadata": {},
   "outputs": [
    {
     "name": "stdout",
     "output_type": "stream",
     "text": [
      "hello world\n",
      "[1, 2, 3, 4]\n"
     ]
    }
   ],
   "source": [
    "# Immutable Example\n",
    "a = \"hello\"\n",
    "a = a + \" world\"  # This creates a new string object\n",
    "print(a) \n",
    "\n",
    "# Mutable Example\n",
    "b = [1, 2, 3]\n",
    "b.append(4)  # Modifies existing list\n",
    "print(b)  \n"
   ]
  },
  {
   "cell_type": "code",
   "execution_count": 3,
   "id": "17513942",
   "metadata": {},
   "outputs": [
    {
     "name": "stdout",
     "output_type": "stream",
     "text": [
      "Hello, Praneeth!\n",
      "Hi Praneeth, you are 19 years old.\n"
     ]
    }
   ],
   "source": [
    "# Taking input from user\n",
    "name = input(\"Enter your name: \")\n",
    "print(\"Hello, \" + name + \"!\")  # Concatenation\n",
    "\n",
    "# Using formatted strings (f-strings)\n",
    "age = int(input(\"Enter your age: \"))\n",
    "print(f\"Hi {name}, you are {age} years old.\")  \n"
   ]
  },
  {
   "cell_type": "code",
   "execution_count": 4,
   "id": "37f421d0",
   "metadata": {},
   "outputs": [
    {
     "name": "stdout",
     "output_type": "stream",
     "text": [
      "100 <class 'int'>\n",
      "50 <class 'str'>\n",
      "3\n"
     ]
    }
   ],
   "source": [
    "# String to Integer\n",
    "a = \"100\"\n",
    "b = int(a)  # Convert string to integer\n",
    "print(b, type(b))  \n",
    "\n",
    "# Integer to String\n",
    "x = 50\n",
    "y = str(x)  # Convert integer to string\n",
    "print(y, type(y))  \n",
    "\n",
    "# Float to Integer\n",
    "pi = 3.99\n",
    "print(int(pi)) #(rounds down)\n"
   ]
  },
  {
   "cell_type": "markdown",
   "id": "5765c309",
   "metadata": {},
   "source": [
    "#### Arithmetic Operators"
   ]
  },
  {
   "cell_type": "code",
   "execution_count": null,
   "id": "c909da06",
   "metadata": {},
   "outputs": [
    {
     "name": "stdout",
     "output_type": "stream",
     "text": [
      "18\n",
      "-2\n",
      "80\n",
      "0.8\n",
      "0\n",
      "8\n",
      "1073741824\n"
     ]
    }
   ],
   "source": [
    "a, b = map(int,input().split())\n",
    "\n",
    "print(a + b) \n",
    "print(a - b)  \n",
    "print(a * b)  \n",
    "print(a / b) \n",
    "print(a // b)  # Floor Division\n",
    "print(a % b)  # Modulus (Remainder)\n",
    "print(a ** b)  # Exponentiation (Power)\n"
   ]
  },
  {
   "cell_type": "markdown",
   "id": "b2ca663c",
   "metadata": {},
   "source": [
    "#### Comparison Operators"
   ]
  },
  {
   "cell_type": "code",
   "execution_count": null,
   "id": "d558cd46",
   "metadata": {},
   "outputs": [
    {
     "name": "stdout",
     "output_type": "stream",
     "text": [
      "False\n",
      "True\n",
      "False\n",
      "True\n",
      "False\n",
      "True\n"
     ]
    }
   ],
   "source": [
    "\n",
    "a,b = map(int,input().split())\n",
    "print(a == b)  \n",
    "print(a != b)  \n",
    "print(a > b)   \n",
    "print(a < b)   \n",
    "print(a >= b)  \n",
    "print(a <= b)  \n"
   ]
  },
  {
   "cell_type": "markdown",
   "id": "2f9cad3b",
   "metadata": {},
   "source": [
    "# If else statement"
   ]
  },
  {
   "cell_type": "code",
   "execution_count": null,
   "id": "96563ab5",
   "metadata": {},
   "outputs": [
    {
     "name": "stdout",
     "output_type": "stream",
     "text": [
      "Positive number\n"
     ]
    }
   ],
   "source": [
    "\n",
    "\n",
    "num = int(input(\"Enter a number: \"))\n",
    "\n",
    "if num > 0:\n",
    "    print(\"Positive number\")\n",
    "elif num < 0:\n",
    "    print(\"Negative number\")\n",
    "else:\n",
    "    print(\"Zero\")\n"
   ]
  },
  {
   "cell_type": "markdown",
   "id": "98d23360",
   "metadata": {},
   "source": [
    "## Nested If-else"
   ]
  },
  {
   "cell_type": "code",
   "execution_count": null,
   "id": "6860a4dd",
   "metadata": {},
   "outputs": [
    {
     "name": "stdout",
     "output_type": "stream",
     "text": [
      "You are a senior citizen.\n"
     ]
    }
   ],
   "source": [
    "\n",
    "\n",
    "age = int(input(\"Enter your age: \"))\n",
    "\n",
    "if age >= 18:\n",
    "    if age >= 60:\n",
    "        print(\"You are a senior citizen.\")\n",
    "    else:\n",
    "        print(\"You are an adult.\")\n",
    "else:\n",
    "    print(\"You are a minor.\")\n"
   ]
  },
  {
   "cell_type": "markdown",
   "id": "bdee4664",
   "metadata": {},
   "source": [
    "# For loop "
   ]
  },
  {
   "cell_type": "code",
   "execution_count": null,
   "id": "f66de38a",
   "metadata": {},
   "outputs": [
    {
     "name": "stdout",
     "output_type": "stream",
     "text": [
      "1\n",
      "2\n",
      "3\n",
      "4\n",
      "5\n"
     ]
    }
   ],
   "source": [
    "\n",
    "\n",
    "for i in range(1, 6):  # Loops from 1 to 5\n",
    "    print(i)\n",
    "\n"
   ]
  },
  {
   "cell_type": "markdown",
   "id": "c81a6802",
   "metadata": {},
   "source": [
    "# While loop \n"
   ]
  },
  {
   "cell_type": "code",
   "execution_count": null,
   "id": "4fd7054c",
   "metadata": {},
   "outputs": [
    {
     "name": "stdout",
     "output_type": "stream",
     "text": [
      "0\n",
      "1\n",
      "2\n",
      "3\n",
      "4\n"
     ]
    }
   ],
   "source": [
    "\n",
    "count = 0\n",
    "while count < 5:\n",
    "    print(count)\n",
    "    count += 1\n"
   ]
  },
  {
   "cell_type": "markdown",
   "id": "7804a3fb",
   "metadata": {},
   "source": [
    "# Loop with else"
   ]
  },
  {
   "cell_type": "code",
   "execution_count": null,
   "id": "3e48c5ba",
   "metadata": {},
   "outputs": [
    {
     "name": "stdout",
     "output_type": "stream",
     "text": [
      "5\n",
      "4\n",
      "3\n",
      "2\n",
      "1\n",
      "Loop ended\n"
     ]
    }
   ],
   "source": [
    "\n",
    "\n",
    "x = 5\n",
    "while x > 0:\n",
    "    print(x)\n",
    "    x -= 1\n",
    "else:\n",
    "    print(\"Loop ended\")\n"
   ]
  },
  {
   "cell_type": "markdown",
   "id": "5ed2d066",
   "metadata": {},
   "source": [
    "# Basic Function\n"
   ]
  },
  {
   "cell_type": "code",
   "execution_count": null,
   "id": "954fbe79",
   "metadata": {},
   "outputs": [
    {
     "name": "stdout",
     "output_type": "stream",
     "text": [
      "Hello, Praneeth!\n"
     ]
    }
   ],
   "source": [
    "\n",
    "def greet(name):\n",
    "    return \"Hello, \" + name + \"!\"\n",
    "\n",
    "print(greet(\"Praneeth\"))  "
   ]
  },
  {
   "cell_type": "markdown",
   "id": "efc7fa26",
   "metadata": {},
   "source": [
    "# Function with default argument"
   ]
  },
  {
   "cell_type": "code",
   "execution_count": null,
   "id": "2d5b7544",
   "metadata": {},
   "outputs": [
    {
     "name": "stdout",
     "output_type": "stream",
     "text": [
      "Hello, Guest!\n",
      "Hello, Praneeth!\n"
     ]
    }
   ],
   "source": [
    "\n",
    "\n",
    "def greet(name=\"Guest\"):\n",
    "    return f\"Hello, {name}!\"\n",
    "\n",
    "print(greet())  \n",
    "print(greet(\"Praneeth\"))  "
   ]
  },
  {
   "cell_type": "markdown",
   "id": "243ee5fe",
   "metadata": {},
   "source": [
    "# Function with multiple arguments\n"
   ]
  },
  {
   "cell_type": "code",
   "execution_count": null,
   "id": "415c31a6",
   "metadata": {},
   "outputs": [
    {
     "name": "stdout",
     "output_type": "stream",
     "text": [
      "8\n"
     ]
    }
   ],
   "source": [
    "\n",
    "def add(a, b):\n",
    "    return a + b\n",
    "\n",
    "print(add(3, 5)) \n"
   ]
  }
 ],
 "metadata": {
  "kernelspec": {
   "display_name": ".venv",
   "language": "python",
   "name": "python3"
  },
  "language_info": {
   "codemirror_mode": {
    "name": "ipython",
    "version": 3
   },
   "file_extension": ".py",
   "mimetype": "text/x-python",
   "name": "python",
   "nbconvert_exporter": "python",
   "pygments_lexer": "ipython3",
   "version": "3.13.1"
  }
 },
 "nbformat": 4,
 "nbformat_minor": 5
}
