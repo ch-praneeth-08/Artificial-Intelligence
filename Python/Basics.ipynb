{
 "cells": [
  {
   "cell_type": "markdown",
   "id": "06715e72",
   "metadata": {},
   "source": [
    "### Variables and Data Types"
   ]
  },
  {
   "cell_type": "code",
   "execution_count": null,
   "id": "30c1ea83",
   "metadata": {},
   "outputs": [
    {
     "name": "stdout",
     "output_type": "stream",
     "text": [
      "10 <class 'int'>\n",
      "3.14 <class 'float'>\n",
      "John <class 'str'>\n",
      "True <class 'bool'>\n",
      "(3+4j) <class 'complex'>\n"
     ]
    }
   ],
   "source": [
    "# Integer\n",
    "x = 10\n",
    "print(x, type(x)) \n",
    "\n",
    "# Float\n",
    "y = 3.14\n",
    "print(y, type(y))  \n",
    "\n",
    "# String\n",
    "name = \"John\"\n",
    "print(name, type(name))  \n",
    "\n",
    "# Boolean\n",
    "is_active = True\n",
    "print(is_active, type(is_active)) \n",
    "\n",
    "# Complex Number\n",
    "z = 3 + 4j\n",
    "print(z, type(z)) \n"
   ]
  },
  {
   "cell_type": "code",
   "execution_count": null,
   "id": "f31aae31",
   "metadata": {},
   "outputs": [
    {
     "name": "stdout",
     "output_type": "stream",
     "text": [
      "hello world\n",
      "[1, 2, 3, 4]\n"
     ]
    }
   ],
   "source": [
    "# Immutable Example\n",
    "a = \"hello\"\n",
    "a = a + \" world\"  # This creates a new string object\n",
    "print(a) \n",
    "\n",
    "# Mutable Example\n",
    "b = [1, 2, 3]\n",
    "b.append(4)  # Modifies existing list\n",
    "print(b)  \n"
   ]
  },
  {
   "cell_type": "code",
   "execution_count": 3,
   "id": "17513942",
   "metadata": {},
   "outputs": [
    {
     "name": "stdout",
     "output_type": "stream",
     "text": [
      "Hello, Praneeth!\n",
      "Hi Praneeth, you are 19 years old.\n"
     ]
    }
   ],
   "source": [
    "# Taking input from user\n",
    "name = input(\"Enter your name: \")\n",
    "print(\"Hello, \" + name + \"!\")  # Concatenation\n",
    "\n",
    "# Using formatted strings (f-strings)\n",
    "age = int(input(\"Enter your age: \"))\n",
    "print(f\"Hi {name}, you are {age} years old.\")  \n"
   ]
  },
  {
   "cell_type": "code",
   "execution_count": 4,
   "id": "37f421d0",
   "metadata": {},
   "outputs": [
    {
     "name": "stdout",
     "output_type": "stream",
     "text": [
      "100 <class 'int'>\n",
      "50 <class 'str'>\n",
      "3\n"
     ]
    }
   ],
   "source": [
    "# String to Integer\n",
    "a = \"100\"\n",
    "b = int(a)  # Convert string to integer\n",
    "print(b, type(b))  \n",
    "\n",
    "# Integer to String\n",
    "x = 50\n",
    "y = str(x)  # Convert integer to string\n",
    "print(y, type(y))  \n",
    "\n",
    "# Float to Integer\n",
    "pi = 3.99\n",
    "print(int(pi)) #(rounds down)\n"
   ]
  },
  {
   "cell_type": "markdown",
   "id": "5765c309",
   "metadata": {},
   "source": [
    "#### Arithmetic Operators"
   ]
  },
  {
   "cell_type": "code",
   "execution_count": null,
   "id": "c909da06",
   "metadata": {},
   "outputs": [
    {
     "name": "stdout",
     "output_type": "stream",
     "text": [
      "18\n",
      "-2\n",
      "80\n",
      "0.8\n",
      "0\n",
      "8\n",
      "1073741824\n"
     ]
    }
   ],
   "source": [
    "a, b = map(int,input().split())\n",
    "\n",
    "print(a + b) \n",
    "print(a - b)  \n",
    "print(a * b)  \n",
    "print(a / b) \n",
    "print(a // b)  # Floor Division\n",
    "print(a % b)  # Modulus (Remainder)\n",
    "print(a ** b)  # Exponentiation (Power)\n"
   ]
  },
  {
   "cell_type": "markdown",
   "id": "b2ca663c",
   "metadata": {},
   "source": [
    "#### Comparison Operators"
   ]
  },
  {
   "cell_type": "code",
   "execution_count": null,
   "id": "d558cd46",
   "metadata": {},
   "outputs": [
    {
     "name": "stdout",
     "output_type": "stream",
     "text": [
      "False\n",
      "True\n",
      "False\n",
      "True\n",
      "False\n",
      "True\n"
     ]
    }
   ],
   "source": [
    "\n",
    "a,b = map(int,input().split())\n",
    "print(a == b)  \n",
    "print(a != b)  \n",
    "print(a > b)   \n",
    "print(a < b)   \n",
    "print(a >= b)  \n",
    "print(a <= b)  \n"
   ]
  },
  {
   "cell_type": "markdown",
   "id": "2f9cad3b",
   "metadata": {},
   "source": [
    "# If else statement"
   ]
  },
  {
   "cell_type": "code",
   "execution_count": null,
   "id": "96563ab5",
   "metadata": {},
   "outputs": [
    {
     "name": "stdout",
     "output_type": "stream",
     "text": [
      "Positive number\n"
     ]
    }
   ],
   "source": [
    "\n",
    "\n",
    "num = int(input(\"Enter a number: \"))\n",
    "\n",
    "if num > 0:\n",
    "    print(\"Positive number\")\n",
    "elif num < 0:\n",
    "    print(\"Negative number\")\n",
    "else:\n",
    "    print(\"Zero\")\n"
   ]
  },
  {
   "cell_type": "markdown",
   "id": "98d23360",
   "metadata": {},
   "source": [
    "## Nested If-else"
   ]
  },
  {
   "cell_type": "code",
   "execution_count": null,
   "id": "6860a4dd",
   "metadata": {},
   "outputs": [
    {
     "name": "stdout",
     "output_type": "stream",
     "text": [
      "You are a senior citizen.\n"
     ]
    }
   ],
   "source": [
    "\n",
    "\n",
    "age = int(input(\"Enter your age: \"))\n",
    "\n",
    "if age >= 18:\n",
    "    if age >= 60:\n",
    "        print(\"You are a senior citizen.\")\n",
    "    else:\n",
    "        print(\"You are an adult.\")\n",
    "else:\n",
    "    print(\"You are a minor.\")\n"
   ]
  },
  {
   "cell_type": "markdown",
   "id": "bdee4664",
   "metadata": {},
   "source": [
    "# For loop "
   ]
  },
  {
   "cell_type": "code",
   "execution_count": null,
   "id": "f66de38a",
   "metadata": {},
   "outputs": [
    {
     "name": "stdout",
     "output_type": "stream",
     "text": [
      "1\n",
      "2\n",
      "3\n",
      "4\n",
      "5\n"
     ]
    }
   ],
   "source": [
    "\n",
    "\n",
    "for i in range(1, 6):  # Loops from 1 to 5\n",
    "    print(i)\n",
    "\n"
   ]
  },
  {
   "cell_type": "markdown",
   "id": "c81a6802",
   "metadata": {},
   "source": [
    "# While loop \n"
   ]
  },
  {
   "cell_type": "code",
   "execution_count": null,
   "id": "4fd7054c",
   "metadata": {},
   "outputs": [
    {
     "name": "stdout",
     "output_type": "stream",
     "text": [
      "0\n",
      "1\n",
      "2\n",
      "3\n",
      "4\n"
     ]
    }
   ],
   "source": [
    "\n",
    "count = 0\n",
    "while count < 5:\n",
    "    print(count)\n",
    "    count += 1\n"
   ]
  },
  {
   "cell_type": "markdown",
   "id": "7804a3fb",
   "metadata": {},
   "source": [
    "# Loop with else"
   ]
  },
  {
   "cell_type": "code",
   "execution_count": null,
   "id": "3e48c5ba",
   "metadata": {},
   "outputs": [
    {
     "name": "stdout",
     "output_type": "stream",
     "text": [
      "5\n",
      "4\n",
      "3\n",
      "2\n",
      "1\n",
      "Loop ended\n"
     ]
    }
   ],
   "source": [
    "\n",
    "\n",
    "x = 5\n",
    "while x > 0:\n",
    "    print(x)\n",
    "    x -= 1\n",
    "else:\n",
    "    print(\"Loop ended\")\n"
   ]
  },
  {
   "cell_type": "markdown",
   "id": "5ed2d066",
   "metadata": {},
   "source": [
    "# Basic Function\n"
   ]
  },
  {
   "cell_type": "code",
   "execution_count": null,
   "id": "954fbe79",
   "metadata": {},
   "outputs": [
    {
     "name": "stdout",
     "output_type": "stream",
     "text": [
      "Hello, Praneeth!\n"
     ]
    }
   ],
   "source": [
    "\n",
    "def greet(name):\n",
    "    return \"Hello, \" + name + \"!\"\n",
    "\n",
    "print(greet(\"Praneeth\"))  "
   ]
  },
  {
   "cell_type": "markdown",
   "id": "efc7fa26",
   "metadata": {},
   "source": [
    "# Function with default argument"
   ]
  },
  {
   "cell_type": "code",
   "execution_count": null,
   "id": "2d5b7544",
   "metadata": {},
   "outputs": [
    {
     "name": "stdout",
     "output_type": "stream",
     "text": [
      "Hello, Guest!\n",
      "Hello, Praneeth!\n"
     ]
    }
   ],
   "source": [
    "\n",
    "\n",
    "def greet(name=\"Guest\"):\n",
    "    return f\"Hello, {name}!\"\n",
    "\n",
    "print(greet())  \n",
    "print(greet(\"Praneeth\"))  "
   ]
  },
  {
   "cell_type": "markdown",
   "id": "243ee5fe",
   "metadata": {},
   "source": [
    "# Function with multiple arguments\n"
   ]
  },
  {
   "cell_type": "code",
   "execution_count": null,
   "id": "415c31a6",
   "metadata": {},
   "outputs": [
    {
     "name": "stdout",
     "output_type": "stream",
     "text": [
      "8\n"
     ]
    }
   ],
   "source": [
    "\n",
    "def add(a, b):\n",
    "    return a + b\n",
    "\n",
    "print(add(3, 5)) \n"
   ]
  },
  {
   "cell_type": "markdown",
   "id": "7965d207",
   "metadata": {},
   "source": [
    "## LISTS\n"
   ]
  },
  {
   "cell_type": "code",
   "execution_count": 18,
   "id": "70b1228c",
   "metadata": {},
   "outputs": [
    {
     "name": "stdout",
     "output_type": "stream",
     "text": [
      "[1, 2, 3, 4, 5]\n",
      "['apple', 'banana', 'cherry']\n",
      "[1, 'hello', 3.14, True]\n"
     ]
    }
   ],
   "source": [
    "# Lists can hold different data types\n",
    "numbers = [1, 2, 3, 4, 5]\n",
    "fruits = [\"apple\", \"banana\", \"cherry\"]\n",
    "mixed = [1, \"hello\", 3.14, True]\n",
    "\n",
    "print(numbers)  \n",
    "print(fruits)   \n",
    "print(mixed)"
   ]
  },
  {
   "cell_type": "code",
   "execution_count": 19,
   "id": "c8a54dc3",
   "metadata": {},
   "outputs": [
    {
     "name": "stdout",
     "output_type": "stream",
     "text": [
      "apple\n",
      "cherry\n"
     ]
    }
   ],
   "source": [
    "fruits = [\"apple\", \"banana\", \"cherry\"]\n",
    "\n",
    "print(fruits[0])   \n",
    "print(fruits[-1])  \n"
   ]
  },
  {
   "cell_type": "code",
   "execution_count": 20,
   "id": "4ecb4750",
   "metadata": {},
   "outputs": [
    {
     "name": "stdout",
     "output_type": "stream",
     "text": [
      "['banana', 'cherry', 'orange']\n",
      "['apple', 'banana', 'cherry']\n",
      "['cherry', 'orange', 'mango']\n",
      "['apple', 'cherry', 'mango']\n"
     ]
    }
   ],
   "source": [
    "fruits = [\"apple\", \"banana\", \"cherry\", \"orange\", \"mango\"]\n",
    "\n",
    "print(fruits[1:4])   # Slicing (start, end) end is exclusive\n",
    "print(fruits[:3])   \n",
    "print(fruits[2:])   \n",
    "print(fruits[::2])  \n"
   ]
  },
  {
   "cell_type": "code",
   "execution_count": 21,
   "id": "a36f563b",
   "metadata": {},
   "outputs": [
    {
     "name": "stdout",
     "output_type": "stream",
     "text": [
      "['apple', 'blueberry', 'cherry']\n"
     ]
    }
   ],
   "source": [
    "# Lists are mutable, meaning you can change their contents.\n",
    "\n",
    "fruits = [\"apple\", \"banana\", \"cherry\"]\n",
    "fruits[1] = \"blueberry\"  # Modify element at index 1\n",
    "print(fruits)  # Output: ['apple', 'blueberry', 'cherry']\n"
   ]
  },
  {
   "cell_type": "code",
   "execution_count": 22,
   "id": "a325ab39",
   "metadata": {},
   "outputs": [
    {
     "name": "stdout",
     "output_type": "stream",
     "text": [
      "False\n",
      "2\n"
     ]
    }
   ],
   "source": [
    "fruits = [\"apple\", \"banana\", \"cherry\"]\n",
    "\n",
    "# Adding Elements\n",
    "fruits.append(\"orange\")   # Adds at the end\n",
    "fruits.insert(1, \"kiwi\")  # Inserts at index 1\n",
    "\n",
    "# Removing Elements\n",
    "fruits.remove(\"banana\")  # Removes first occurrence\n",
    "popped_fruit = fruits.pop()  # Removes last element\n",
    "del fruits[0]  # Deletes first element\n",
    "\n",
    "# Checking Elements\n",
    "print(\"apple\" in fruits)  # Output: True\n",
    "\n",
    "# Sorting & Reversing\n",
    "fruits.sort()  # Alphabetical order\n",
    "fruits.reverse()  # Reverse the list\n",
    "\n",
    "# Length of List\n",
    "print(len(fruits))  # Output: Length of list\n"
   ]
  },
  {
   "cell_type": "code",
   "execution_count": 23,
   "id": "c839ded4",
   "metadata": {},
   "outputs": [
    {
     "name": "stdout",
     "output_type": "stream",
     "text": [
      "[1, 4, 9, 16, 25]\n"
     ]
    }
   ],
   "source": [
    "squares = [x ** 2 for x in range(1, 6)]\n",
    "print(squares)  # Output: [1, 4, 9, 16, 25]\n"
   ]
  },
  {
   "cell_type": "code",
   "execution_count": 24,
   "id": "12f760b7",
   "metadata": {},
   "outputs": [
    {
     "name": "stdout",
     "output_type": "stream",
     "text": [
      "6\n"
     ]
    }
   ],
   "source": [
    "matrix = [[1, 2, 3], [4, 5, 6], [7, 8, 9]]\n",
    "print(matrix[1][2])  \n"
   ]
  },
  {
   "cell_type": "markdown",
   "id": "ad71081e",
   "metadata": {},
   "source": [
    "## TUPLES"
   ]
  },
  {
   "cell_type": "code",
   "execution_count": 27,
   "id": "8cf601a5",
   "metadata": {},
   "outputs": [
    {
     "name": "stdout",
     "output_type": "stream",
     "text": [
      "('apple', 'banana', 'cherry')\n",
      "(1, 2, 3, 4)\n",
      "(1, 'hello', 3.14, True)\n"
     ]
    }
   ],
   "source": [
    "numbers = (1, 2, 3, 4)\n",
    "fruits = (\"apple\", \"banana\", \"cherry\")\n",
    "mixed = (1, \"hello\", 3.14, True)\n",
    "\n",
    "print(fruits)  \n",
    "print(numbers)\n",
    "print(mixed)"
   ]
  },
  {
   "cell_type": "code",
   "execution_count": null,
   "id": "b26f796e",
   "metadata": {},
   "outputs": [],
   "source": [
    " # Accessing elements\n",
    "\n",
    "fruits = (\"apple\", \"banana\", \"cherry\")\n",
    "\n",
    "print(fruits[0])   # Output: apple\n",
    "print(fruits[-1])  # Output: cherry\n"
   ]
  },
  {
   "cell_type": "code",
   "execution_count": null,
   "id": "97ab2a3c",
   "metadata": {},
   "outputs": [],
   "source": [
    "# Slicing tuples\n",
    "\n",
    "numbers = (1, 2, 3, 4, 5)\n",
    "\n",
    "print(numbers[1:4])  \n",
    "print(numbers[:3])   \n",
    "print(numbers[2:])   \n",
    "print(numbers[::2])  \n"
   ]
  },
  {
   "cell_type": "code",
   "execution_count": 28,
   "id": "b4a97c63",
   "metadata": {},
   "outputs": [
    {
     "name": "stdout",
     "output_type": "stream",
     "text": [
      "Alice\n",
      "25\n",
      "Engineer\n"
     ]
    }
   ],
   "source": [
    "# tuple unpacking\n",
    "\n",
    "# Packing\n",
    "person = (\"Alice\", 25, \"Engineer\")\n",
    "\n",
    "# Unpacking\n",
    "name, age, profession = person\n",
    "print(name)  \n",
    "print(age)    \n",
    "print(profession)  \n"
   ]
  },
  {
   "cell_type": "code",
   "execution_count": 29,
   "id": "f3fd44dc",
   "metadata": {},
   "outputs": [],
   "source": [
    "# immutable nature of tuples\n",
    "\n",
    "fruits = (\"apple\", \"banana\", \"cherry\")\n",
    "# fruits[1] = \"blueberry\"  # This will cause an error!\n"
   ]
  },
  {
   "cell_type": "markdown",
   "id": "51b72f2a",
   "metadata": {},
   "source": [
    "## DICTIONARIES"
   ]
  },
  {
   "cell_type": "code",
   "execution_count": null,
   "id": "dc30677a",
   "metadata": {},
   "outputs": [],
   "source": [
    "# Creating a dictionary\n",
    "\n",
    "person = {\n",
    "    \"name\": \"Alice\",\n",
    "    \"age\": 25,\n",
    "    \"city\": \"New York\"\n",
    "}\n"
   ]
  },
  {
   "cell_type": "code",
   "execution_count": null,
   "id": "cf2efa99",
   "metadata": {},
   "outputs": [],
   "source": [
    "# Accessing values\n",
    "\n",
    "print(person[\"name\"])  \n",
    "print(person.get(\"age\"))\n"
   ]
  },
  {
   "cell_type": "code",
   "execution_count": null,
   "id": "e4f9ea1b",
   "metadata": {},
   "outputs": [],
   "source": [
    "# Adding or Modifying values\n",
    "\n",
    "person[\"job\"] = \"Engineer\"  # Adding new key-value pair\n",
    "person[\"age\"] = 26  # Modifying value\n",
    "print(person)\n"
   ]
  },
  {
   "cell_type": "code",
   "execution_count": null,
   "id": "ea15ace3",
   "metadata": {},
   "outputs": [],
   "source": [
    "# removing entries\n",
    "\n",
    "del person[\"city\"]  # Removes a key-value pair\n",
    "removed_value = person.pop(\"age\")  # Removes and returns value\n",
    "print(person)\n"
   ]
  },
  {
   "cell_type": "code",
   "execution_count": null,
   "id": "00b8e566",
   "metadata": {},
   "outputs": [],
   "source": [
    "# dictionary methods\n",
    "\n",
    "print(person.keys())  # Output: dict_keys(['name', 'job'])\n",
    "print(person.values())  # Output: dict_values(['Alice', 'Engineer'])\n",
    "print(person.items())  # Output: dict_items([('name', 'Alice'), ('job', 'Engineer')])\n",
    "\n",
    "# Looping through a dictionary\n",
    "for key, value in person.items():\n",
    "    print(key, \":\", value)\n"
   ]
  },
  {
   "cell_type": "markdown",
   "id": "75b8cfe7",
   "metadata": {},
   "source": [
    "### FILE HANDLING"
   ]
  },
  {
   "cell_type": "code",
   "execution_count": 39,
   "id": "482dff9e",
   "metadata": {},
   "outputs": [],
   "source": [
    "# Writing to a file \n",
    "\n",
    "with open(\"sample.txt\", \"w\") as file:\n",
    "    file.write(\"Hello, World!\\n\")\n",
    "    file.write(\"This is a second line.\\n\")\n"
   ]
  },
  {
   "cell_type": "code",
   "execution_count": 31,
   "id": "6c7f1abb",
   "metadata": {},
   "outputs": [
    {
     "name": "stdout",
     "output_type": "stream",
     "text": [
      "Hello, World!\n",
      "This is a second line.\n",
      "\n"
     ]
    }
   ],
   "source": [
    "# reading from a file\n",
    "\n",
    "with open(\"sample.txt\", \"r\") as file:\n",
    "    content = file.read()\n",
    "    print(content)\n"
   ]
  },
  {
   "cell_type": "code",
   "execution_count": null,
   "id": "8ccf9e23",
   "metadata": {},
   "outputs": [
    {
     "name": "stdout",
     "output_type": "stream",
     "text": [
      "Hello, World!\n",
      "This is a second line.\n"
     ]
    }
   ],
   "source": [
    "# reading line by line ( used to read large files instead of loading everything at once it reads line by line)\n",
    "\n",
    "with open(\"sample.txt\", \"r\") as file:\n",
    "    for line in file:\n",
    "        print(line.strip())  # Remove newline character\n"
   ]
  },
  {
   "cell_type": "code",
   "execution_count": null,
   "id": "2fafdd62",
   "metadata": {},
   "outputs": [],
   "source": [
    "# Appending to a file\n",
    "with open(\"sample.txt\", \"a\") as file:\n",
    "    file.write(\"Adding a new line!\\n\")\n"
   ]
  },
  {
   "cell_type": "code",
   "execution_count": 37,
   "id": "fd51a2d6",
   "metadata": {},
   "outputs": [
    {
     "name": "stdout",
     "output_type": "stream",
     "text": [
      "File exists!\n"
     ]
    }
   ],
   "source": [
    "# Checking if a file exists\n",
    "\n",
    "import os\n",
    "\n",
    "if os.path.exists(\"sample.txt\"):\n",
    "    print(\"File exists!\")\n",
    "else:\n",
    "    print(\"File not found!\")\n"
   ]
  },
  {
   "cell_type": "code",
   "execution_count": null,
   "id": "9ef433c7",
   "metadata": {},
   "outputs": [],
   "source": [
    "# Exception Handling\n",
    "\n",
    "try:\n",
    "    with open(\"unknown.txt\", \"r\") as file:\n",
    "        content = file.read()\n",
    "except FileNotFoundError:\n",
    "    print(\"File does not exist!\")\n"
   ]
  },
  {
   "cell_type": "code",
   "execution_count": null,
   "metadata": {},
   "outputs": [],
   "source": [
    "# deleting a file\n",
    "\n",
    "if os.path.exists(\"sample.txt\"):\n",
    "    os.remove(\"sample.txt\")"
   ]
  }
 ],
 "metadata": {
  "kernelspec": {
   "display_name": ".venv",
   "language": "python",
   "name": "python3"
  },
  "language_info": {
   "codemirror_mode": {
    "name": "ipython",
    "version": 3
   },
   "file_extension": ".py",
   "mimetype": "text/x-python",
   "name": "python",
   "nbconvert_exporter": "python",
   "pygments_lexer": "ipython3",
   "version": "3.13.1"
  }
 },
 "nbformat": 4,
 "nbformat_minor": 5
}
