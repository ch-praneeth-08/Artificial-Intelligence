{
 "cells": [
  {
   "cell_type": "markdown",
   "id": "80fa265a",
   "metadata": {},
   "source": [
    "### CLASSES AND OBJECTS"
   ]
  },
  {
   "cell_type": "code",
   "execution_count": 1,
   "id": "97cad866",
   "metadata": {},
   "outputs": [
    {
     "name": "stdout",
     "output_type": "stream",
     "text": [
      "2022 Toyota Corolla\n",
      "Toyota\n"
     ]
    }
   ],
   "source": [
    "# A class is a blueprint for creating objects. An object is an instance of a class.\n",
    "\n",
    "class Car:\n",
    "    # Constructor: Initializes object properties\n",
    "    def __init__(self, brand, model, year):\n",
    "        self.brand = brand  # Instance Variable\n",
    "        self.model = model\n",
    "        self.year = year\n",
    "\n",
    "    # Method to display car details\n",
    "    def display_info(self):\n",
    "        print(f\"{self.year} {self.brand} {self.model}\")\n",
    "\n",
    "# Creating an object of the Car class\n",
    "my_car = Car(\"Toyota\", \"Corolla\", 2022)\n",
    "\n",
    "# Accessing methods and attributes\n",
    "my_car.display_info()  \n",
    "print(my_car.brand)  \n"
   ]
  },
  {
   "cell_type": "markdown",
   "id": "45a42602",
   "metadata": {},
   "source": [
    "### Instance Variables vs. Class Variables"
   ]
  },
  {
   "cell_type": "code",
   "execution_count": null,
   "id": "25415624",
   "metadata": {},
   "outputs": [],
   "source": [
    "## Instance Variables: Unique for each object.\n",
    "# Class Variables: Shared among all objects.\n",
    "\n",
    "class Employee:\n",
    "    company = \"Tech Corp\"  # Class Variable (shared)\n",
    "\n",
    "    def __init__(self, name, age):\n",
    "        self.name = name  # Instance Variable\n",
    "        self.age = age\n",
    "\n",
    "# Creating Objects\n",
    "emp1 = Employee(\"Alice\", 30)\n",
    "emp2 = Employee(\"Bob\", 25)\n",
    "\n",
    "print(emp1.company) \n",
    "print(emp2.company)  \n",
    "\n",
    "# Changing class variable\n",
    "Employee.company = \"New Corp\"\n",
    "\n",
    "print(emp1.company) \n",
    "print(emp2.company) \n"
   ]
  },
  {
   "cell_type": "markdown",
   "id": "89057138",
   "metadata": {},
   "source": [
    "# Types of Methods in Python"
   ]
  },
  {
   "cell_type": "code",
   "execution_count": null,
   "id": "b108060c",
   "metadata": {},
   "outputs": [],
   "source": [
    "# Instance Methods\n",
    "# Instance methods work on instance variables and require self.\n",
    "\n",
    "class Dog:\n",
    "    def __init__(self, name, breed):\n",
    "        self.name = name\n",
    "        self.breed = breed\n",
    "\n",
    "    def bark(self):\n",
    "        print(f\"{self.name} says Woof!\")\n",
    "\n",
    "dog1 = Dog(\"Max\", \"Bulldog\")\n",
    "dog1.bark()  \n"
   ]
  },
  {
   "cell_type": "code",
   "execution_count": 2,
   "id": "46cf54dc",
   "metadata": {},
   "outputs": [
    {
     "name": "stdout",
     "output_type": "stream",
     "text": [
      "New Tech\n"
     ]
    }
   ],
   "source": [
    "# Class Methods (@classmethod)\n",
    "# Class methods work on class variables and use cls.\n",
    "\n",
    "class Company:\n",
    "    company_name = \"Tech Corp\"\n",
    "\n",
    "    @classmethod\n",
    "    def change_company(cls, new_name):\n",
    "        cls.company_name = new_name  # Modifies class variable\n",
    "\n",
    "Company.change_company(\"New Tech\")\n",
    "print(Company.company_name)  \n"
   ]
  },
  {
   "cell_type": "code",
   "execution_count": null,
   "id": "5450b8d1",
   "metadata": {},
   "outputs": [],
   "source": [
    "# Static Methods (@staticmethod)\n",
    "# Static methods don’t access class or instance variables.\n",
    "\n",
    "class MathOperations:\n",
    "    @staticmethod\n",
    "    def add(x, y):\n",
    "        return x + y\n",
    "\n",
    "print(MathOperations.add(5, 3)) \n"
   ]
  },
  {
   "cell_type": "markdown",
   "id": "f209c206",
   "metadata": {},
   "source": [
    "# INHERITANCE"
   ]
  },
  {
   "cell_type": "code",
   "execution_count": null,
   "id": "f6e0805a",
   "metadata": {},
   "outputs": [],
   "source": [
    "# Inheritance allows a class to derive attributes and methods from another class.\n",
    "\n",
    "# Single Inheritance\n",
    "\n",
    "class Animal:\n",
    "    def __init__(self, name):\n",
    "        self.name = name\n",
    "\n",
    "    def speak(self):\n",
    "        return \"Some sound\"\n",
    "\n",
    "class Dog(Animal):  # Inheriting from Animal\n",
    "    def speak(self):\n",
    "        return \"Woof!\"\n",
    "\n",
    "dog = Dog(\"Buddy\")\n",
    "print(dog.name)  \n",
    "print(dog.speak())  "
   ]
  },
  {
   "cell_type": "code",
   "execution_count": null,
   "id": "b8d6c0c3",
   "metadata": {},
   "outputs": [],
   "source": [
    "# MULTIPLE INHERITANCE\n",
    "\n",
    "class Animal:\n",
    "    def breathe(self):\n",
    "        return \"Breathing...\"\n",
    "\n",
    "class Swimmer:\n",
    "    def swim(self):\n",
    "        return \"Swimming...\"\n",
    "\n",
    "class Dolphin(Animal, Swimmer):  # Inheriting from both\n",
    "    pass\n",
    "\n",
    "dolphin = Dolphin()\n",
    "print(dolphin.breathe())  \n",
    "print(dolphin.swim())  \n"
   ]
  },
  {
   "cell_type": "markdown",
   "id": "ca24a38f",
   "metadata": {},
   "source": [
    "## Using super() in Inheritance"
   ]
  },
  {
   "cell_type": "code",
   "execution_count": null,
   "id": "e18f5162",
   "metadata": {},
   "outputs": [],
   "source": [
    "# The super() function allows you to call a method from the parent class inside the child class\n",
    "\n",
    "class Parent:\n",
    "    def __init__(self, name):\n",
    "        self.name = name\n",
    "\n",
    "    def show(self):\n",
    "        print(f\"Parent Name: {self.name}\")\n",
    "\n",
    "class Child(Parent):\n",
    "    def __init__(self, name, age):\n",
    "        super().__init__(name)  # Calling parent constructor\n",
    "        self.age = age\n",
    "\n",
    "    def show(self):\n",
    "        super().show()  # Calling parent method\n",
    "        print(f\"Child Age: {self.age}\")\n",
    "\n",
    "obj = Child(\"John\", 25)\n",
    "obj.show()\n"
   ]
  },
  {
   "cell_type": "markdown",
   "id": "7f20a046",
   "metadata": {},
   "source": [
    "### ENCAPSULATION"
   ]
  },
  {
   "cell_type": "code",
   "execution_count": null,
   "id": "efe0f3af",
   "metadata": {},
   "outputs": [],
   "source": [
    "# Encapsulation restricts direct access to variables.\n",
    "\n",
    "# Private Variables (__variable)\n",
    "\n",
    "class BankAccount:\n",
    "    def __init__(self, balance):\n",
    "        self.__balance = balance  # Private variable\n",
    "\n",
    "    def get_balance(self):\n",
    "        return self.__balance\n",
    "\n",
    "account = BankAccount(1000)\n",
    "print(account.get_balance())  # Output: 1000\n",
    "# print(account.__balance)  # Error! Cannot access private variable\n"
   ]
  },
  {
   "cell_type": "markdown",
   "id": "6b58b210",
   "metadata": {},
   "source": [
    "### POLYMORPHISM"
   ]
  },
  {
   "cell_type": "code",
   "execution_count": null,
   "id": "a9afe184",
   "metadata": {},
   "outputs": [],
   "source": [
    "# Polymorphism allows different classes to use the same method names but with different behaviors.\n",
    "\n",
    "# Method Overriding\n",
    "\n",
    "class Bird:\n",
    "    def fly(self):\n",
    "        print(\"Bird is flying\")\n",
    "\n",
    "class Sparrow(Bird):\n",
    "    def fly(self):\n",
    "        print(\"Sparrow flies low\")\n",
    "\n",
    "class Eagle(Bird):\n",
    "    def fly(self):\n",
    "        print(\"Eagle flies high\")\n",
    "\n",
    "birds = [Sparrow(), Eagle()]\n",
    "for bird in birds:\n",
    "    bird.fly()"
   ]
  },
  {
   "cell_type": "markdown",
   "id": "37439c83",
   "metadata": {},
   "source": [
    "## ABSTRACTION "
   ]
  },
  {
   "cell_type": "code",
   "execution_count": null,
   "id": "30befe18",
   "metadata": {},
   "outputs": [],
   "source": [
    "# Abstraction hides implementation details and exposes only essential features.\n",
    "\n",
    "\n",
    "from abc import ABC, abstractmethod\n",
    "\n",
    "class Shape(ABC):  # Abstract class\n",
    "    @abstractmethod\n",
    "    def area(self):\n",
    "        pass\n",
    "\n",
    "class Circle(Shape):\n",
    "    def __init__(self, radius):\n",
    "        self.radius = radius\n",
    "\n",
    "    def area(self):\n",
    "        return 3.14 * self.radius ** 2\n",
    "\n",
    "c = Circle(5)\n",
    "print(c.area())"
   ]
  }
 ],
 "metadata": {
  "kernelspec": {
   "display_name": ".venv",
   "language": "python",
   "name": "python3"
  },
  "language_info": {
   "codemirror_mode": {
    "name": "ipython",
    "version": 3
   },
   "file_extension": ".py",
   "mimetype": "text/x-python",
   "name": "python",
   "nbconvert_exporter": "python",
   "pygments_lexer": "ipython3",
   "version": "3.13.1"
  }
 },
 "nbformat": 4,
 "nbformat_minor": 5
}
